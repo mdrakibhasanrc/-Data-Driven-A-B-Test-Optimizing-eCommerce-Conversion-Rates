{
 "cells": [
  {
   "cell_type": "markdown",
   "id": "1df92514",
   "metadata": {},
   "source": [
    "# Import Library"
   ]
  },
  {
   "cell_type": "code",
   "execution_count": 16,
   "id": "794c0925",
   "metadata": {},
   "outputs": [],
   "source": [
    "import numpy as np\n",
    "import pandas as pd\n",
    "import scipy.stats as stats\n",
    "import math"
   ]
  },
  {
   "cell_type": "code",
   "execution_count": 21,
   "id": "ac0a0f7c",
   "metadata": {},
   "outputs": [
    {
     "name": "stdout",
     "output_type": "stream",
     "text": [
      "BaseLine Conversion rate 0.1\n",
      "Want to Improvment 0.15\n",
      "New Conversion rate after MDE 0.115\n",
      "Significance Level 0.05\n",
      "Power 0.8\n",
      "Z score for significance level1.959963984540054\n",
      "Z score for power 0.8\n"
     ]
    }
   ],
   "source": [
    "p1=0.1 #baseline conversion rate 10%\n",
    "mde=0.15 # 15% improvment\n",
    "new=mde*p1 # calculation: new= MDE * Baseline conversion rate\n",
    "p2= new + p1 # New conversion rate after MDE\n",
    "\n",
    "\n",
    "# Significance level and Power\n",
    "\n",
    "alpha=0.05 # significance level 95%\n",
    "power=0.8 #power 80%\n",
    "\n",
    "# Z score for significance level and Power\n",
    "\n",
    "z_alpha=stats.norm.ppf(1-alpha/2)\n",
    "z_beta=stats.norm.ppf(power)\n",
    "\n",
    "print(f\"BaseLine Conversion rate {p1}\")\n",
    "print(f\"Want to Improvment {mde}\")\n",
    "print(f\"New Conversion rate after MDE {p2}\")\n",
    "print(f\"Significance Level {alpha}\")\n",
    "print(f\"Power {power}\")\n",
    "print(f\"Z score for significance level{z_alpha}\")\n",
    "print(f\"Z score for power {power}\")"
   ]
  },
  {
   "cell_type": "markdown",
   "id": "2ddf241d",
   "metadata": {},
   "source": [
    "# Calculate Sample Size"
   ]
  },
  {
   "cell_type": "code",
   "execution_count": 22,
   "id": "46efc771",
   "metadata": {},
   "outputs": [
    {
     "name": "stdout",
     "output_type": "stream",
     "text": [
      "Sample Size need for AB Test 13380\n"
     ]
    }
   ],
   "source": [
    "numerator=((z_alpha+z_beta)**2)*(p1*(1-p1)+p2*(1-p2))\n",
    "demerator=(p2-p1)**2\n",
    "sample_size_per_group=numerator/demerator\n",
    "sample_size_per_group = math.ceil(sample_size_per_group)\n",
    "Total_Sample_size=sample_size_per_group*2\n",
    "print(f\"Sample Size need for AB Test {Total_Sample_size}\")"
   ]
  },
  {
   "cell_type": "markdown",
   "id": "c2119bb6",
   "metadata": {},
   "source": [
    "# Test Duration for A/B Test"
   ]
  },
  {
   "cell_type": "code",
   "execution_count": 23,
   "id": "8cc76876",
   "metadata": {},
   "outputs": [
    {
     "name": "stdout",
     "output_type": "stream",
     "text": [
      "Test Duration: 9 days\n"
     ]
    }
   ],
   "source": [
    "daily_traffic=1500 # your website current daily trafficTot\n",
    "Total_Sample_size # previous calculation\n",
    "test_duration= Total_Sample_size/daily_traffic\n",
    "test_duration = math.ceil(test_duration)  # Round up to the next whole day\n",
    "print(f\"Test Duration: {test_duration} days\")"
   ]
  }
 ],
 "metadata": {
  "kernelspec": {
   "display_name": "Python 3 (ipykernel)",
   "language": "python",
   "name": "python3"
  },
  "language_info": {
   "codemirror_mode": {
    "name": "ipython",
    "version": 3
   },
   "file_extension": ".py",
   "mimetype": "text/x-python",
   "name": "python",
   "nbconvert_exporter": "python",
   "pygments_lexer": "ipython3",
   "version": "3.9.7"
  }
 },
 "nbformat": 4,
 "nbformat_minor": 5
}
